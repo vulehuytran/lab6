{
 "cells": [
  {
   "cell_type": "markdown",
   "metadata": {},
   "source": [
    "## Lab 6: Shewanella oneidensis\n",
    "\n",
    "### Align the reads to the human genome:\n",
    "\n",
    "**What will you use for the database? Input reads?**\n",
    "\n",
    "I will the human genome database saved in /data/hg19/hg19. My input reads will be the fastq file in /data/lab6 folder.\n",
    "\n",
    "**If you use the --un unaligned.fastq option, what will unaligned.fastq contain?**\n",
    "\n",
    "If I use -un unaligned.fastq, the unaligned.fastq will contain all the reads that can not be aligned with human genome database by Bowtie2. It means unaligned.fastq will contain all the sequences from S. oneidensis without contaminating human DNA.\n",
    "\n",
    "Here is the command I ran in the terminal:\n",
    "\n",
    "``` pwd ```\n",
    "\n",
    "output: /home/bioe131-35\n",
    "\n",
    "``` cd ~/Vu\n",
    "bowtie2 -p 4 --very-fast --no-unal -x /data/hg19/hg19 -U /data/lab6/illumnia_reads.fastq -S /home/bioe131-35/Vu/output.sam --un /home/bioe131-35/Vu/unaligned.fastq\n",
    "```\n",
    "\n",
    "output message:\n",
    "\n",
    "> 1124714 reads; of these:  \n",
    "> 1124714 (100.00%) were unpaired; of these:  \n",
    "> 1028379 (91.43%) aligned 0 times  \n",
    "> 87274 (7.76%) aligned exactly 1 time  \n",
    "> 9061 (0.81%) aligned >1 times  \n",
    "> 8.57% overall alignment rate  \n",
    "\n",
    "**What percentage of your sequencing library came from contaminating human DNA?**\n",
    "\n",
    "8.57% came from contaminating human DNA."
   ]
  },
  {
   "cell_type": "markdown",
   "metadata": {},
   "source": [
    "### Align the reads to the S. oneidensis reference genome:\n",
    "\n",
    "Here is the command I ran in terminal:  \n",
    "\n",
    "``` bowtie2 -p 4 --very-fast --no-unal -x /data/lab6/shewanella_oneidensis_mr-1 -U /home/be131-35/Vu/unaligned.fastq -S /home/be131-35/Vu/output2.sam --un unaligned2.fastq\n",
    "```\n",
    "Here is the output message:  \n",
    "\n",
    "> 1028379 reads; of these:  \n",
    "  > 1028379 (100.00%) were unpaired; of these:  \n",
    "    > 299560 (29.13%) aligned 0 times  \n",
    "    > 687571 (66.86%) aligned exactly 1 time  \n",
    "    > 41248 (4.01%) aligned >1 times  \n",
    "> 70.87% overall alignment rate  \n",
    "\n",
    "**If you use the --un unaligned.fastq option, what will unaligned.fastq contain?**  \n",
    "\n",
    "The unaligned1.fastq contains the sequences that are not aligned with S. oneidensis's genome. \n",
    "\n",
    "**What percentage of your filtered library didn’t align to the reference genome?**\n",
    "\n",
    "100% - 70.87% = 29.13%\n",
    "\n",
    "**If you use --very-sensitive instead of --very-fast, does this percentage increase or decrease?**\n",
    "\n",
    "This is the output message I had got from using --very-sensitive:  \n",
    "\n",
    "> 1028379 reads; of these:  \n",
    "  > 1028379 (100.00%) were unpaired; of these:  \n",
    "    > 298112 (28.99%) aligned 0 times  \n",
    "    > 688180 (66.92%) aligned exactly 1 time  \n",
    "    > 42087 (4.09%) aligned >1 times  \n",
    "> 71.01% overall alignment rate  \n",
    "\n",
    "The answer is increasing."
   ]
  },
  {
   "cell_type": "markdown",
   "metadata": {},
   "source": [
    "### Generate a coverage plot:\n",
    "\n",
    "```output2.sam``` is the SAM file containing the alignment of my filtered reads to the S. oneidensis reference genome.  \n",
    "\n",
    "Convert output2.sam to output2.bam\n",
    "\n",
    "```samtools view -b /home/be131-35/Vu/output2.sam > /home/be131-35/Vu/output2.bam```\n",
    "\n",
    "Sort this file out:\n",
    "\n",
    "```samtools sort /home/be131-35/Vu/output2.bam > /home/be131-35/Vu/output2.sorted.bam```\n",
    "\n",
    "Index it:\n",
    "\n",
    "```samtools index /home/be131-35/Vu/output2.sorted.bam```\n",
    "\n",
    "\"Depth\" it:\n",
    "\n",
    "```samtools depth -a /home/be131-35/Vu/output2.sorted.bam > /home/be131-35/Vu/pileup.tab```\n",
    "\n",
    "**What is the min, max, and mean coverage across all positions?**"
   ]
  },
  {
   "cell_type": "code",
   "execution_count": 1,
   "metadata": {},
   "outputs": [],
   "source": [
    "# I will use matplotlib and pandas\n",
    "\n",
    "from matplotlib import pyplot as plt\n",
    "%matplotlib inline\n",
    "\n",
    "import pandas as pd\n",
    "from pandas import read_csv"
   ]
  },
  {
   "cell_type": "code",
   "execution_count": 2,
   "metadata": {},
   "outputs": [],
   "source": [
    "# load the file pileup.tab and name the columns\n",
    "\n",
    "d_data = pd.read_csv('pileup.tab', delimiter='\\t', names =['accession', 'position', 'depth'])"
   ]
  },
  {
   "cell_type": "code",
   "execution_count": 3,
   "metadata": {},
   "outputs": [
    {
     "data": {
      "text/html": [
       "<div>\n",
       "<style scoped>\n",
       "    .dataframe tbody tr th:only-of-type {\n",
       "        vertical-align: middle;\n",
       "    }\n",
       "\n",
       "    .dataframe tbody tr th {\n",
       "        vertical-align: top;\n",
       "    }\n",
       "\n",
       "    .dataframe thead th {\n",
       "        text-align: right;\n",
       "    }\n",
       "</style>\n",
       "<table border=\"1\" class=\"dataframe\">\n",
       "  <thead>\n",
       "    <tr style=\"text-align: right;\">\n",
       "      <th></th>\n",
       "      <th>accession</th>\n",
       "      <th>position</th>\n",
       "      <th>depth</th>\n",
       "    </tr>\n",
       "  </thead>\n",
       "  <tbody>\n",
       "    <tr>\n",
       "      <th>1665495</th>\n",
       "      <td>AE014299.2</td>\n",
       "      <td>1665496</td>\n",
       "      <td>43</td>\n",
       "    </tr>\n",
       "    <tr>\n",
       "      <th>4064565</th>\n",
       "      <td>AE014299.2</td>\n",
       "      <td>4064566</td>\n",
       "      <td>44</td>\n",
       "    </tr>\n",
       "    <tr>\n",
       "      <th>3452878</th>\n",
       "      <td>AE014299.2</td>\n",
       "      <td>3452879</td>\n",
       "      <td>18</td>\n",
       "    </tr>\n",
       "    <tr>\n",
       "      <th>1168631</th>\n",
       "      <td>AE014299.2</td>\n",
       "      <td>1168632</td>\n",
       "      <td>25</td>\n",
       "    </tr>\n",
       "    <tr>\n",
       "      <th>2355012</th>\n",
       "      <td>AE014299.2</td>\n",
       "      <td>2355013</td>\n",
       "      <td>55</td>\n",
       "    </tr>\n",
       "  </tbody>\n",
       "</table>\n",
       "</div>"
      ],
      "text/plain": [
       "          accession  position  depth\n",
       "1665495  AE014299.2   1665496     43\n",
       "4064565  AE014299.2   4064566     44\n",
       "3452878  AE014299.2   3452879     18\n",
       "1168631  AE014299.2   1168632     25\n",
       "2355012  AE014299.2   2355013     55"
      ]
     },
     "execution_count": 3,
     "metadata": {},
     "output_type": "execute_result"
    }
   ],
   "source": [
    "# observe several data points\n",
    "\n",
    "d_data.sample(5)"
   ]
  },
  {
   "cell_type": "code",
   "execution_count": 4,
   "metadata": {},
   "outputs": [
    {
     "data": {
      "image/png": "[encoded data removed]",
      "text/plain": [
       "<Figure size 432x288 with 1 Axes>"
      ]
     },
     "metadata": {
      "needs_background": "light"
     },
     "output_type": "display_data"
    }
   ],
   "source": [
    "# scatter plot where the x-axis is position in the genome and the y-axis is depth of coverage:\n",
    "\n",
    "plt.scatter(d_data[['position']], d_data[['depth']], color='red')\n",
    "plt.xlabel(\"Position in Genome\")\n",
    "plt.ylabel(\"Depth of Coverage\")\n",
    "plt.show()"
   ]
  },
  {
   "cell_type": "code",
   "execution_count": 5,
   "metadata": {},
   "outputs": [
    {
     "data": {
      "text/html": [
       "<div>\n",
       "<style scoped>\n",
       "    .dataframe tbody tr th:only-of-type {\n",
       "        vertical-align: middle;\n",
       "    }\n",
       "\n",
       "    .dataframe tbody tr th {\n",
       "        vertical-align: top;\n",
       "    }\n",
       "\n",
       "    .dataframe thead th {\n",
       "        text-align: right;\n",
       "    }\n",
       "</style>\n",
       "<table border=\"1\" class=\"dataframe\">\n",
       "  <thead>\n",
       "    <tr style=\"text-align: right;\">\n",
       "      <th></th>\n",
       "      <th>depth</th>\n",
       "    </tr>\n",
       "  </thead>\n",
       "  <tbody>\n",
       "    <tr>\n",
       "      <th>412976</th>\n",
       "      <td>52</td>\n",
       "    </tr>\n",
       "    <tr>\n",
       "      <th>76008</th>\n",
       "      <td>37</td>\n",
       "    </tr>\n",
       "    <tr>\n",
       "      <th>1837839</th>\n",
       "      <td>43</td>\n",
       "    </tr>\n",
       "    <tr>\n",
       "      <th>2427211</th>\n",
       "      <td>40</td>\n",
       "    </tr>\n",
       "    <tr>\n",
       "      <th>3943686</th>\n",
       "      <td>35</td>\n",
       "    </tr>\n",
       "  </tbody>\n",
       "</table>\n",
       "</div>"
      ],
      "text/plain": [
       "         depth\n",
       "412976      52\n",
       "76008       37\n",
       "1837839     43\n",
       "2427211     40\n",
       "3943686     35"
      ]
     },
     "execution_count": 5,
     "metadata": {},
     "output_type": "execute_result"
    }
   ],
   "source": [
    "d_data.sample(5)[['depth']]"
   ]
  },
  {
   "cell_type": "code",
   "execution_count": 7,
   "metadata": {},
   "outputs": [
    {
     "data": {
      "image/png": "[encoded data removed]",
      "text/plain": [
       "<Figure size 432x288 with 1 Axes>"
      ]
     },
     "metadata": {
      "needs_background": "light"
     },
     "output_type": "display_data"
    }
   ],
   "source": [
    "# histogram for depth:\n",
    "\n",
    "d_data.hist(column='depth', bins=100)\n",
    "plt.xlabel(\"Depth of Coverage\")\n",
    "plt.ylabel(\"Counts\")\n",
    "plt.show()"
   ]
  },
  {
   "cell_type": "code",
   "execution_count": null,
   "metadata": {},
   "outputs": [],
   "source": []
  }
 ],
 "metadata": {
  "kernelspec": {
   "display_name": "Python 3",
   "language": "python",
   "name": "python3"
  },
  "language_info": {
   "codemirror_mode": {
    "name": "ipython",
    "version": 3
   },
   "file_extension": ".py",
   "mimetype": "text/x-python",
   "name": "python",
   "nbconvert_exporter": "python",
   "pygments_lexer": "ipython3",
   "version": "3.6.6"
  }
 },
 "nbformat": 4,
 "nbformat_minor": 2
}
